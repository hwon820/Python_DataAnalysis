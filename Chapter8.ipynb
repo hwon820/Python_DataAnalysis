{
  "nbformat": 4,
  "nbformat_minor": 0,
  "metadata": {
    "colab": {
      "provenance": [],
      "authorship_tag": "ABX9TyOA7gWfunibpW1f8LokV6dS",
      "include_colab_link": true
    },
    "kernelspec": {
      "name": "python3",
      "display_name": "Python 3"
    },
    "language_info": {
      "name": "python"
    }
  },
  "cells": [
    {
      "cell_type": "markdown",
      "metadata": {
        "id": "view-in-github",
        "colab_type": "text"
      },
      "source": [
        "<a href=\"https://colab.research.google.com/github/hwon820/Python_DataAnalysis/blob/main/Chapter8.ipynb\" target=\"_parent\"><img src=\"https://colab.research.google.com/assets/colab-badge.svg\" alt=\"Open In Colab\"/></a>"
      ]
    },
    {
      "cell_type": "markdown",
      "source": [
        "##071. 인간관계 네트워크 가시화"
      ],
      "metadata": {
        "id": "UFedFGm9jEsX"
      }
    },
    {
      "cell_type": "code",
      "execution_count": null,
      "metadata": {
        "colab": {
          "base_uri": "https://localhost:8080/"
        },
        "id": "qRSK7NVBhK0E",
        "outputId": "0fe14acc-6202-48c8-e8da-d4caf041735f"
      },
      "outputs": [
        {
          "output_type": "stream",
          "name": "stdout",
          "text": [
            "Mounted at /content/gdrive\n"
          ]
        }
      ],
      "source": [
        "from google.colab import drive\n",
        "drive.mount('/content/gdrive')\n",
        "import pandas as pd\n",
        "\n",
        "df_links = pd.read_csv('/content/gdrive/MyDrive/파이썬 데이터분석/pyda100-master/8장/links.csv')"
      ]
    },
    {
      "cell_type": "code",
      "source": [
        "df_links.head()"
      ],
      "metadata": {
        "colab": {
          "base_uri": "https://localhost:8080/",
          "height": 235
        },
        "id": "dkij8IitiGhG",
        "outputId": "8863319e-e2bf-466e-e0ec-47b41756ffd9"
      },
      "execution_count": null,
      "outputs": [
        {
          "output_type": "execute_result",
          "data": {
            "text/plain": [
              "  Unnamed: 0  Node0  Node1  Node2  Node3  Node4  Node5  Node6  Node7  Node8  \\\n",
              "0      Node0    0.0    0.0    0.0    0.0    0.0    1.0    0.0    0.0    0.0   \n",
              "1      Node1    0.0    0.0    0.0    0.0    0.0    1.0    0.0    0.0    0.0   \n",
              "2      Node2    0.0    0.0    0.0    0.0    1.0    1.0    1.0    0.0    0.0   \n",
              "3      Node3    0.0    0.0    0.0    0.0    0.0    0.0    0.0    1.0    0.0   \n",
              "4      Node4    0.0    0.0    1.0    0.0    0.0    0.0    0.0    1.0    1.0   \n",
              "\n",
              "   ...  Node10  Node11  Node12  Node13  Node14  Node15  Node16  Node17  \\\n",
              "0  ...     0.0     0.0     0.0     0.0     0.0     1.0     0.0     0.0   \n",
              "1  ...     0.0     1.0     0.0     1.0     0.0     0.0     1.0     0.0   \n",
              "2  ...     1.0     0.0     0.0     0.0     0.0     0.0     0.0     0.0   \n",
              "3  ...     0.0     0.0     0.0     0.0     0.0     1.0     0.0     0.0   \n",
              "4  ...     1.0     0.0     0.0     0.0     0.0     1.0     0.0     0.0   \n",
              "\n",
              "   Node18  Node19  \n",
              "0     0.0     0.0  \n",
              "1     0.0     0.0  \n",
              "2     0.0     0.0  \n",
              "3     0.0     0.0  \n",
              "4     0.0     0.0  \n",
              "\n",
              "[5 rows x 21 columns]"
            ],
            "text/html": [
              "\n",
              "  <div id=\"df-b3671d32-94fc-430b-902f-b13214dd1cd3\">\n",
              "    <div class=\"colab-df-container\">\n",
              "      <div>\n",
              "<style scoped>\n",
              "    .dataframe tbody tr th:only-of-type {\n",
              "        vertical-align: middle;\n",
              "    }\n",
              "\n",
              "    .dataframe tbody tr th {\n",
              "        vertical-align: top;\n",
              "    }\n",
              "\n",
              "    .dataframe thead th {\n",
              "        text-align: right;\n",
              "    }\n",
              "</style>\n",
              "<table border=\"1\" class=\"dataframe\">\n",
              "  <thead>\n",
              "    <tr style=\"text-align: right;\">\n",
              "      <th></th>\n",
              "      <th>Unnamed: 0</th>\n",
              "      <th>Node0</th>\n",
              "      <th>Node1</th>\n",
              "      <th>Node2</th>\n",
              "      <th>Node3</th>\n",
              "      <th>Node4</th>\n",
              "      <th>Node5</th>\n",
              "      <th>Node6</th>\n",
              "      <th>Node7</th>\n",
              "      <th>Node8</th>\n",
              "      <th>...</th>\n",
              "      <th>Node10</th>\n",
              "      <th>Node11</th>\n",
              "      <th>Node12</th>\n",
              "      <th>Node13</th>\n",
              "      <th>Node14</th>\n",
              "      <th>Node15</th>\n",
              "      <th>Node16</th>\n",
              "      <th>Node17</th>\n",
              "      <th>Node18</th>\n",
              "      <th>Node19</th>\n",
              "    </tr>\n",
              "  </thead>\n",
              "  <tbody>\n",
              "    <tr>\n",
              "      <th>0</th>\n",
              "      <td>Node0</td>\n",
              "      <td>0.0</td>\n",
              "      <td>0.0</td>\n",
              "      <td>0.0</td>\n",
              "      <td>0.0</td>\n",
              "      <td>0.0</td>\n",
              "      <td>1.0</td>\n",
              "      <td>0.0</td>\n",
              "      <td>0.0</td>\n",
              "      <td>0.0</td>\n",
              "      <td>...</td>\n",
              "      <td>0.0</td>\n",
              "      <td>0.0</td>\n",
              "      <td>0.0</td>\n",
              "      <td>0.0</td>\n",
              "      <td>0.0</td>\n",
              "      <td>1.0</td>\n",
              "      <td>0.0</td>\n",
              "      <td>0.0</td>\n",
              "      <td>0.0</td>\n",
              "      <td>0.0</td>\n",
              "    </tr>\n",
              "    <tr>\n",
              "      <th>1</th>\n",
              "      <td>Node1</td>\n",
              "      <td>0.0</td>\n",
              "      <td>0.0</td>\n",
              "      <td>0.0</td>\n",
              "      <td>0.0</td>\n",
              "      <td>0.0</td>\n",
              "      <td>1.0</td>\n",
              "      <td>0.0</td>\n",
              "      <td>0.0</td>\n",
              "      <td>0.0</td>\n",
              "      <td>...</td>\n",
              "      <td>0.0</td>\n",
              "      <td>1.0</td>\n",
              "      <td>0.0</td>\n",
              "      <td>1.0</td>\n",
              "      <td>0.0</td>\n",
              "      <td>0.0</td>\n",
              "      <td>1.0</td>\n",
              "      <td>0.0</td>\n",
              "      <td>0.0</td>\n",
              "      <td>0.0</td>\n",
              "    </tr>\n",
              "    <tr>\n",
              "      <th>2</th>\n",
              "      <td>Node2</td>\n",
              "      <td>0.0</td>\n",
              "      <td>0.0</td>\n",
              "      <td>0.0</td>\n",
              "      <td>0.0</td>\n",
              "      <td>1.0</td>\n",
              "      <td>1.0</td>\n",
              "      <td>1.0</td>\n",
              "      <td>0.0</td>\n",
              "      <td>0.0</td>\n",
              "      <td>...</td>\n",
              "      <td>1.0</td>\n",
              "      <td>0.0</td>\n",
              "      <td>0.0</td>\n",
              "      <td>0.0</td>\n",
              "      <td>0.0</td>\n",
              "      <td>0.0</td>\n",
              "      <td>0.0</td>\n",
              "      <td>0.0</td>\n",
              "      <td>0.0</td>\n",
              "      <td>0.0</td>\n",
              "    </tr>\n",
              "    <tr>\n",
              "      <th>3</th>\n",
              "      <td>Node3</td>\n",
              "      <td>0.0</td>\n",
              "      <td>0.0</td>\n",
              "      <td>0.0</td>\n",
              "      <td>0.0</td>\n",
              "      <td>0.0</td>\n",
              "      <td>0.0</td>\n",
              "      <td>0.0</td>\n",
              "      <td>1.0</td>\n",
              "      <td>0.0</td>\n",
              "      <td>...</td>\n",
              "      <td>0.0</td>\n",
              "      <td>0.0</td>\n",
              "      <td>0.0</td>\n",
              "      <td>0.0</td>\n",
              "      <td>0.0</td>\n",
              "      <td>1.0</td>\n",
              "      <td>0.0</td>\n",
              "      <td>0.0</td>\n",
              "      <td>0.0</td>\n",
              "      <td>0.0</td>\n",
              "    </tr>\n",
              "    <tr>\n",
              "      <th>4</th>\n",
              "      <td>Node4</td>\n",
              "      <td>0.0</td>\n",
              "      <td>0.0</td>\n",
              "      <td>1.0</td>\n",
              "      <td>0.0</td>\n",
              "      <td>0.0</td>\n",
              "      <td>0.0</td>\n",
              "      <td>0.0</td>\n",
              "      <td>1.0</td>\n",
              "      <td>1.0</td>\n",
              "      <td>...</td>\n",
              "      <td>1.0</td>\n",
              "      <td>0.0</td>\n",
              "      <td>0.0</td>\n",
              "      <td>0.0</td>\n",
              "      <td>0.0</td>\n",
              "      <td>1.0</td>\n",
              "      <td>0.0</td>\n",
              "      <td>0.0</td>\n",
              "      <td>0.0</td>\n",
              "      <td>0.0</td>\n",
              "    </tr>\n",
              "  </tbody>\n",
              "</table>\n",
              "<p>5 rows × 21 columns</p>\n",
              "</div>\n",
              "      <button class=\"colab-df-convert\" onclick=\"convertToInteractive('df-b3671d32-94fc-430b-902f-b13214dd1cd3')\"\n",
              "              title=\"Convert this dataframe to an interactive table.\"\n",
              "              style=\"display:none;\">\n",
              "        \n",
              "  <svg xmlns=\"http://www.w3.org/2000/svg\" height=\"24px\"viewBox=\"0 0 24 24\"\n",
              "       width=\"24px\">\n",
              "    <path d=\"M0 0h24v24H0V0z\" fill=\"none\"/>\n",
              "    <path d=\"M18.56 5.44l.94 2.06.94-2.06 2.06-.94-2.06-.94-.94-2.06-.94 2.06-2.06.94zm-11 1L8.5 8.5l.94-2.06 2.06-.94-2.06-.94L8.5 2.5l-.94 2.06-2.06.94zm10 10l.94 2.06.94-2.06 2.06-.94-2.06-.94-.94-2.06-.94 2.06-2.06.94z\"/><path d=\"M17.41 7.96l-1.37-1.37c-.4-.4-.92-.59-1.43-.59-.52 0-1.04.2-1.43.59L10.3 9.45l-7.72 7.72c-.78.78-.78 2.05 0 2.83L4 21.41c.39.39.9.59 1.41.59.51 0 1.02-.2 1.41-.59l7.78-7.78 2.81-2.81c.8-.78.8-2.07 0-2.86zM5.41 20L4 18.59l7.72-7.72 1.47 1.35L5.41 20z\"/>\n",
              "  </svg>\n",
              "      </button>\n",
              "      \n",
              "  <style>\n",
              "    .colab-df-container {\n",
              "      display:flex;\n",
              "      flex-wrap:wrap;\n",
              "      gap: 12px;\n",
              "    }\n",
              "\n",
              "    .colab-df-convert {\n",
              "      background-color: #E8F0FE;\n",
              "      border: none;\n",
              "      border-radius: 50%;\n",
              "      cursor: pointer;\n",
              "      display: none;\n",
              "      fill: #1967D2;\n",
              "      height: 32px;\n",
              "      padding: 0 0 0 0;\n",
              "      width: 32px;\n",
              "    }\n",
              "\n",
              "    .colab-df-convert:hover {\n",
              "      background-color: #E2EBFA;\n",
              "      box-shadow: 0px 1px 2px rgba(60, 64, 67, 0.3), 0px 1px 3px 1px rgba(60, 64, 67, 0.15);\n",
              "      fill: #174EA6;\n",
              "    }\n",
              "\n",
              "    [theme=dark] .colab-df-convert {\n",
              "      background-color: #3B4455;\n",
              "      fill: #D2E3FC;\n",
              "    }\n",
              "\n",
              "    [theme=dark] .colab-df-convert:hover {\n",
              "      background-color: #434B5C;\n",
              "      box-shadow: 0px 1px 3px 1px rgba(0, 0, 0, 0.15);\n",
              "      filter: drop-shadow(0px 1px 2px rgba(0, 0, 0, 0.3));\n",
              "      fill: #FFFFFF;\n",
              "    }\n",
              "  </style>\n",
              "\n",
              "      <script>\n",
              "        const buttonEl =\n",
              "          document.querySelector('#df-b3671d32-94fc-430b-902f-b13214dd1cd3 button.colab-df-convert');\n",
              "        buttonEl.style.display =\n",
              "          google.colab.kernel.accessAllowed ? 'block' : 'none';\n",
              "\n",
              "        async function convertToInteractive(key) {\n",
              "          const element = document.querySelector('#df-b3671d32-94fc-430b-902f-b13214dd1cd3');\n",
              "          const dataTable =\n",
              "            await google.colab.kernel.invokeFunction('convertToInteractive',\n",
              "                                                     [key], {});\n",
              "          if (!dataTable) return;\n",
              "\n",
              "          const docLinkHtml = 'Like what you see? Visit the ' +\n",
              "            '<a target=\"_blank\" href=https://colab.research.google.com/notebooks/data_table.ipynb>data table notebook</a>'\n",
              "            + ' to learn more about interactive tables.';\n",
              "          element.innerHTML = '';\n",
              "          dataTable['output_type'] = 'display_data';\n",
              "          await google.colab.output.renderOutput(dataTable, element);\n",
              "          const docLink = document.createElement('div');\n",
              "          docLink.innerHTML = docLinkHtml;\n",
              "          element.appendChild(docLink);\n",
              "        }\n",
              "      </script>\n",
              "    </div>\n",
              "  </div>\n",
              "  "
            ]
          },
          "metadata": {},
          "execution_count": 4
        }
      ]
    },
    {
      "cell_type": "code",
      "source": [
        "df_links[\"Unnamed: 0\"].unique() # 0번부터 19번까지 총 20개의 노드(20명의 데이터)"
      ],
      "metadata": {
        "colab": {
          "base_uri": "https://localhost:8080/"
        },
        "id": "Jm_zZa3zkHpu",
        "outputId": "45c794d9-233a-4704-b3fb-f856b5e939f1"
      },
      "execution_count": null,
      "outputs": [
        {
          "output_type": "execute_result",
          "data": {
            "text/plain": [
              "array(['Node0', 'Node1', 'Node2', 'Node3', 'Node4', 'Node5', 'Node6',\n",
              "       'Node7', 'Node8', 'Node9', 'Node10', 'Node11', 'Node12', 'Node13',\n",
              "       'Node14', 'Node15', 'Node16', 'Node17', 'Node18', 'Node19'],\n",
              "      dtype=object)"
            ]
          },
          "metadata": {},
          "execution_count": 5
        }
      ]
    },
    {
      "cell_type": "code",
      "source": [
        "import networkx as nx\n",
        "import matplotlib.pyplot as plt\n",
        "\n",
        "#그래프 객체 생성\n",
        "G = nx.Graph()\n",
        "\n",
        "#Node\n",
        "NUM = len(df_links.index)\n",
        "for i in range(1, NUM+1):\n",
        "  node_no = df_links.columns[i].strip(\"Node\")\n",
        "  #print(node_no)\n",
        "  G.add_node(str(node_no))\n",
        "\n",
        "#Edge\n",
        "for i in range(NUM):\n",
        "  for j in range(NUM):\n",
        "    #print(i, j)\n",
        "    node_name = \"Node\" + str(j)\n",
        "\n",
        "    if df_links[node_name].iloc[i] == 1:  #Node j의 i번째와의 연결 여부가 1이라면\n",
        "      G.add_edge(str(i), str(j))  #edge 추가\n",
        "\n",
        "#Drawing\n",
        "nx.draw_networkx(G, node_color = \"k\", edge_color = \"k\", font_color = \"w\")\n",
        "plt.show()  #다른 노드와 많이 연결되어 있을수록 중심에 위치"
      ],
      "metadata": {
        "colab": {
          "base_uri": "https://localhost:8080/",
          "height": 248
        },
        "id": "s9OdIixoiSxV",
        "outputId": "f9f6cb76-ed89-4759-fd42-b87b574a96ac"
      },
      "execution_count": null,
      "outputs": [
        {
          "output_type": "display_data",
          "data": {
            "text/plain": [
              "<Figure size 432x288 with 1 Axes>"
            ],
            "image/png": "[encoded data removed]"
          },
          "metadata": {}
        }
      ]
    },
    {
      "cell_type": "markdown",
      "source": [
        "##072. 입소문에 의한 정보 전파 모습 가시화"
      ],
      "metadata": {
        "id": "1SrxPvS5k8xZ"
      }
    },
    {
      "cell_type": "code",
      "source": [
        "import numpy as np\n",
        "\n",
        "#10%의 확률로 전파된다 가정\n",
        "def determin_link(percent):\n",
        "  rand_val = np.random.rand() #랜덤수 반환\n",
        "  if rand_val <= percent:\n",
        "    return 1\n",
        "  else:\n",
        "    return 0\n",
        "\n",
        "# 전파 시뮬레이션 함수\n",
        "# num: 사람 수, list_active: 입소문 들은 여부 표기 배열, percentag_percolation: 입소문 날 확률\n",
        "def simulate_percolation(num, list_active, percent_percolation):\n",
        "  for i in range(num):\n",
        "    if list_active[i] == 1:         # i가 입소문을 들은 사람이고\n",
        "      for j in range(num):        \n",
        "        node_name = \"Node\" + str(j)\n",
        "        if df_links[node_name].iloc[i] == 1:    # i와 연결되어 있는 Node j가\n",
        "          if determin_link(percent_percolation) == 1:   # 특정 퍼센트의 확률로 입소문을 들었다면\n",
        "            list_active[j] = 1                          # 입소문 들은 여부를 1로 설정\n",
        "\n",
        "  return list_active"
      ],
      "metadata": {
        "id": "e-MH_Yp7k8JT"
      },
      "execution_count": null,
      "outputs": []
    },
    {
      "cell_type": "code",
      "source": [
        "percent_percolation = 0.1\n",
        "T_NUM = 36  # 입소문 전파 기간 설정 -> 36개월\n",
        "NUM = len(df_links.index)\n",
        "list_active = np.zeros(NUM)\n",
        "list_active[0] = 1\n",
        "\n",
        "#시뮬레이션\n",
        "list_timeSeries = []\n",
        "for t in range(T_NUM):\n",
        "  list_active = simulate_percolation(NUM, list_active, percent_percolation)\n",
        "  list_timeSeries.append(list_active.copy())"
      ],
      "metadata": {
        "id": "mnRG4OJ-nSBE"
      },
      "execution_count": null,
      "outputs": []
    },
    {
      "cell_type": "code",
      "source": [
        "list_timeSeries[t]  # [t] ???"
      ],
      "metadata": {
        "colab": {
          "base_uri": "https://localhost:8080/"
        },
        "id": "-vgW_Lj7oSs9",
        "outputId": "2c64e25d-5683-4431-e615-a0b71ac00620"
      },
      "execution_count": null,
      "outputs": [
        {
          "output_type": "execute_result",
          "data": {
            "text/plain": [
              "array([1., 1., 1., 1., 1., 1., 1., 1., 1., 1., 1., 1., 1., 1., 1., 1., 1.,\n",
              "       1., 1., 1.])"
            ]
          },
          "metadata": {},
          "execution_count": 11
        }
      ]
    },
    {
      "cell_type": "code",
      "source": [
        "#시뮬레이션 결과 시각화\n",
        "\n",
        "def active_node_coloring(list_active):\n",
        "  list_color = []\n",
        "  for i in range(len(list_timeSeries[t])):\n",
        "\n",
        "    if list_timeSeries[t][i] == 1:\n",
        "      list_color.append(\"r\")\n",
        "    else:\n",
        "      list_color.append(\"k\")\n",
        "\n",
        "  return list_color\n",
        "\n",
        "t = 0\n",
        "nx.draw_networkx(G, font_color=\"w\", node_color = active_node_coloring(list_timeSeries[t]))\n",
        "plt.show()\n",
        "\n",
        "t = 11\n",
        "nx.draw_networkx(G, font_color=\"w\", node_color = active_node_coloring(list_timeSeries[t]))\n",
        "plt.show()\n",
        "\n",
        "t = 35\n",
        "nx.draw_networkx(G, font_color=\"w\", node_color = active_node_coloring(list_timeSeries[t]))\n",
        "plt.show()\n",
        "\n",
        "#오랜기간이 경과할수록 전원에게 전파"
      ],
      "metadata": {
        "colab": {
          "base_uri": "https://localhost:8080/",
          "height": 710
        },
        "id": "VTQznTW0n7Be",
        "outputId": "7b93c0a9-ba10-44e8-c408-9ea501f34c08"
      },
      "execution_count": null,
      "outputs": [
        {
          "output_type": "display_data",
          "data": {
            "text/plain": [
              "<Figure size 432x288 with 1 Axes>"
            ],
            "image/png": "[encoded data removed]"
          },
          "metadata": {}
        },
        {
          "output_type": "display_data",
          "data": {
            "text/plain": [
              "<Figure size 432x288 with 1 Axes>"
            ],
            "image/png": "[encoded data removed]"
          },
          "metadata": {}
        },
        {
          "output_type": "display_data",
          "data": {
            "text/plain": [
              "<Figure size 432x288 with 1 Axes>"
            ],
            "image/png": "[encoded data removed]"
          },
          "metadata": {}
        }
      ]
    },
    {
      "cell_type": "markdown",
      "source": [
        "##073. 입소문 수의 시계열 변화 그래프화"
      ],
      "metadata": {
        "id": "S8b5aQXcpYSS"
      }
    },
    {
      "cell_type": "code",
      "source": [
        "list_timeSeries_num = []\n",
        "for i in range(len(list_timeSeries)):\n",
        "  list_timeSeries_num.append(sum(list_timeSeries[i])) # 증가 수를 보기 위해 매단계에서 sum()\n",
        "\n",
        "plt.plot(list_timeSeries_num)\n",
        "plt.show()"
      ],
      "metadata": {
        "colab": {
          "base_uri": "https://localhost:8080/",
          "height": 265
        },
        "id": "wA_mltShpXrz",
        "outputId": "8ab2c0e3-f862-4b37-bec5-b9636ce4e36c"
      },
      "execution_count": null,
      "outputs": [
        {
          "output_type": "display_data",
          "data": {
            "text/plain": [
              "<Figure size 432x288 with 1 Axes>"
            ],
            "image/png": "[encoded data removed]"
          },
          "metadata": {
            "needs_background": "light"
          }
        }
      ]
    },
    {
      "cell_type": "markdown",
      "source": [
        "##074. 회원 수의 시계열변화 시뮬레이션"
      ],
      "metadata": {
        "id": "kpphayFUp7SX"
      }
    },
    {
      "cell_type": "code",
      "source": [
        "def simulate_population(num, list_active, percent_percolation, percent_disapparence, df_links):\n",
        "  #확산\n",
        "  for i in range(num):\n",
        "    if list_active[i] == 1:\n",
        "      for j in range(num):\n",
        "        if df_links.iloc[i][j] == 1:    # Node i와 Node j의 연결이 1이고\n",
        "          if determin_link(percent_percolation) == 1:   # 특정 확률로 입소문이 전달되면\n",
        "            list_active[j] = 1  \n",
        "  \n",
        "  #소멸\n",
        "  for i in range(num):\n",
        "    if determin_link(percent_disapparence) == 1:  # 특정 확률로 전달이 안 되면\n",
        "      list_active[i] = 0\n",
        "\n",
        "  return list_active"
      ],
      "metadata": {
        "id": "CvSB_Zvnp-uZ"
      },
      "execution_count": null,
      "outputs": []
    },
    {
      "cell_type": "code",
      "source": [
        "percent_percolation = 0.1\n",
        "percent_disapparence = 0.05\n",
        "T_NUM = 100\n",
        "NUM = len(df_links.index)\n",
        "list_active = np.zeros(NUM)\n",
        "list_active[0] = 1\n",
        "\n",
        "list_timeSeries = []\n",
        "for t in range(T_NUM):\n",
        "    list_active = simulate_population(NUM, list_active, percent_percolation, percent_disapparence,df_links)\n",
        "    list_timeSeries.append(list_active.copy())"
      ],
      "metadata": {
        "id": "ZGcYeGqOrimE"
      },
      "execution_count": null,
      "outputs": []
    },
    {
      "cell_type": "code",
      "source": [
        "#시계열 그래프 그리기\n",
        "list_timeSeries_num = []\n",
        "for i in range(len(list_timeSeries)):\n",
        "  list_timeSeries_num.append(sum(list_timeSeries[i]))\n",
        "\n",
        "plt.plot(list_timeSeries_num)\n",
        "plt.show()\n",
        "\n",
        "#증감을 반복하며 서서히 100%에 가까워짐"
      ],
      "metadata": {
        "colab": {
          "base_uri": "https://localhost:8080/",
          "height": 265
        },
        "id": "t1fA7G4IujfU",
        "outputId": "60390d7c-8ae3-4ca0-8dee-7e9636759d3b"
      },
      "execution_count": null,
      "outputs": [
        {
          "output_type": "display_data",
          "data": {
            "text/plain": [
              "<Figure size 432x288 with 1 Axes>"
            ],
            "image/png": "[encoded data removed]"
          },
          "metadata": {
            "needs_background": "light"
          }
        }
      ]
    },
    {
      "cell_type": "code",
      "source": [
        "# 소멸 확률 높인 version\n",
        "percent_disapparence = 0.2\n",
        "list_active = np.zeros(NUM)\n",
        "list_active[0] = 1\n",
        "list_timeSeries = []\n",
        "for t in range(T_NUM):\n",
        "    list_active = simulate_population(NUM, list_active, percent_percolation, percent_disapparence,df_links)\n",
        "    list_timeSeries.append(list_active.copy())"
      ],
      "metadata": {
        "id": "0YzyNY6VvPBj"
      },
      "execution_count": null,
      "outputs": []
    },
    {
      "cell_type": "code",
      "source": [
        "# 시계열 그래프 그리기\n",
        "list_timeSeries_num = []\n",
        "for i in range(len(list_timeSeries)):\n",
        "    list_timeSeries_num.append(sum(list_timeSeries[i]))\n",
        "\n",
        "plt.plot(list_timeSeries_num)\n",
        "plt.show()"
      ],
      "metadata": {
        "colab": {
          "base_uri": "https://localhost:8080/",
          "height": 265
        },
        "id": "uSd-tD-_vIoH",
        "outputId": "7e0336a0-7ad0-49b2-b881-fa9c523dee24"
      },
      "execution_count": null,
      "outputs": [
        {
          "output_type": "display_data",
          "data": {
            "text/plain": [
              "<Figure size 432x288 with 1 Axes>"
            ],
            "image/png": "[encoded data removed]"
          },
          "metadata": {
            "needs_background": "light"
          }
        }
      ]
    },
    {
      "cell_type": "markdown",
      "source": [
        "##075. 파라미터 전체를 상관관계를 보면서 파악"
      ],
      "metadata": {
        "id": "ITS4peMPvqhB"
      }
    },
    {
      "cell_type": "code",
      "source": [
        "#확률과 소멸 확률 바꿔가며 파악\n",
        "\n",
        "T_NUM = 100\n",
        "NUM_PhaseDiagram = 20\n",
        "phaseDiagram = np.zeros((NUM_PhaseDiagram, NUM_PhaseDiagram))   # 20X20 영행렬 생성\n",
        "for i_p in range(NUM_PhaseDiagram):     \n",
        "  for i_d in range(NUM_PhaseDiagram):\n",
        "    # 전파 / 소멸 확률 늘려가며 반복\n",
        "    percent_percolation = 0.05*i_p\n",
        "    percent_disapparance = 0.05*i_d\n",
        "\n",
        "    list_active = np.zeros(NUM)\n",
        "    list_active[0] = 1\n",
        "    for t in range(T_NUM):\n",
        "      list_active = simulate_population(NUM, list_active, percent_percolation, percent_disapparence, df_links)\n",
        "      phaseDiagram[i_p][i_d] = sum(list_active)\n",
        "\n",
        "print(phaseDiagram)"
      ],
      "metadata": {
        "colab": {
          "base_uri": "https://localhost:8080/"
        },
        "id": "GTZrms3SvZlS",
        "outputId": "2c86aff7-9e79-47cd-b3aa-629558f5fd11"
      },
      "execution_count": null,
      "outputs": [
        {
          "output_type": "stream",
          "name": "stdout",
          "text": [
            "[[ 0.  0.  0.  0.  0.  0.  0.  0.  0.  0.  0.  0.  0.  0.  0.  0.  0.  0.\n",
            "   0.  0.]\n",
            " [ 0.  0.  0.  0.  0.  0.  0.  0.  0.  0.  0.  0.  0.  0.  0.  0.  0.  0.\n",
            "   0.  0.]\n",
            " [ 0.  0.  0.  0.  0.  0.  0.  0.  0.  0.  0.  0.  0.  0.  0.  0.  0.  0.\n",
            "   0.  0.]\n",
            " [ 0.  0.  0.  0.  0.  0.  0.  0.  0.  0.  0.  0.  0.  0.  0.  0.  0.  0.\n",
            "   0.  3.]\n",
            " [ 0.  0.  0. 10.  0.  0. 10.  0.  0.  9.  0.  0. 14.  0.  0.  0.  0.  0.\n",
            "   0.  0.]\n",
            " [12. 13.  0.  0.  0.  0.  0.  6.  0.  0.  0.  0.  0.  8.  0.  0.  5.  0.\n",
            "  13. 12.]\n",
            " [13.  9. 14. 11. 10. 10. 12.  0. 14.  0. 10. 11. 13. 13. 10. 14. 13. 11.\n",
            "   0.  0.]\n",
            " [13. 14.  0. 13. 15.  0.  0.  0. 15.  0. 15.  7. 10. 15. 13. 13. 17. 10.\n",
            "  14. 15.]\n",
            " [13. 14. 10. 11. 12. 14.  0. 11. 11. 14. 12. 11. 14.  0.  0. 15.  0. 14.\n",
            "  12. 13.]\n",
            " [15.  0. 12. 13. 16. 14. 17. 15. 16. 12. 15.  0. 13. 17. 11. 11. 14. 11.\n",
            "  15. 16.]\n",
            " [16. 14. 17. 14. 18.  0. 16. 13. 16. 16. 16. 18. 15. 13. 14. 13. 14. 15.\n",
            "   9.  0.]\n",
            " [17. 15. 15. 17. 16. 12. 17. 16. 15. 18. 14. 13. 16. 13.  0. 13. 15. 15.\n",
            "  11. 17.]\n",
            " [15. 16. 17. 12. 19. 11. 16. 17. 15. 13. 17.  0. 17. 13. 15. 14. 10. 18.\n",
            "  16. 12.]\n",
            " [15. 12.  0. 17. 13.  9. 18. 12. 12. 17. 15. 13. 14. 15. 14. 13. 14. 18.\n",
            "  12. 14.]\n",
            " [11. 13. 17. 14. 15. 11. 15. 12. 12. 16.  0. 16. 16. 15. 13. 14. 17. 12.\n",
            "  14. 16.]\n",
            " [16. 17. 15. 15. 17. 17. 14. 14. 16. 14. 13. 15. 13. 13. 13. 15. 14. 16.\n",
            "  13. 17.]\n",
            " [11. 15. 13. 16. 18. 16. 16. 14. 13. 18. 13. 16. 15. 17. 18. 18.  0. 16.\n",
            "  13. 15.]\n",
            " [14. 16. 17. 14. 16. 18. 14. 17. 16. 13. 17. 16. 17. 13. 11. 18. 14. 13.\n",
            "  17. 13.]\n",
            " [15. 16. 12. 15. 11. 15. 17. 13. 16. 18. 14. 19. 14. 17. 18. 14. 14. 16.\n",
            "  16. 15.]\n",
            " [15. 15. 14. 17. 11. 14. 13. 14. 13. 15. 19. 14. 13. 14. 17. 15. 14. 14.\n",
            "  14. 16.]]\n"
          ]
        }
      ]
    },
    {
      "cell_type": "code",
      "source": [
        "plt.matshow(phaseDiagram)\n",
        "plt.colorbar(shrink = 0.8)\n",
        "plt.xlabel('percent_disapparence')\n",
        "plt.ylabel('percent_percolation')\n",
        "plt.xticks(np.arange(0.0, 20.0, 5), np.arange(0.0, 1.0, 0.25))\n",
        "plt.yticks(np.arange(0.0, 20.0, 5), np.arange(0.0, 1.0, 0.25))\n",
        "plt.tick_params(bottom = False,\n",
        "                left = False,\n",
        "                right = False,\n",
        "                top = False)\n",
        "\n",
        "plt.show()\n",
        "\n",
        "#전파확률이 25%를 넘지 못하면 거의 전파되지 않음"
      ],
      "metadata": {
        "colab": {
          "base_uri": "https://localhost:8080/",
          "height": 241
        },
        "id": "7dPk3WcawzFR",
        "outputId": "84875bbd-91a2-4266-b0bb-f6e4490ad073"
      },
      "execution_count": null,
      "outputs": [
        {
          "output_type": "display_data",
          "data": {
            "text/plain": [
              "<Figure size 288x288 with 2 Axes>"
            ],
            "image/png": "[encoded data removed]"
          },
          "metadata": {
            "needs_background": "light"
          }
        }
      ]
    },
    {
      "cell_type": "markdown",
      "source": [
        "##076. 실제 데이터 불러오기"
      ],
      "metadata": {
        "id": "Y-TUm0QeyFo8"
      }
    },
    {
      "cell_type": "code",
      "source": [
        "# 스포츠 센터 회원 전체 데이터로 시뮬레이션\n",
        "\n",
        "df_mem_links = pd.read_csv('/content/gdrive/MyDrive/파이썬 데이터분석/pyda100-master/8장/links_members.csv')\n",
        "df_mem_info = pd.read_csv('/content/gdrive/MyDrive/파이썬 데이터분석/pyda100-master/8장/info_members.csv')"
      ],
      "metadata": {
        "id": "iDaPdEqDyIv7"
      },
      "execution_count": null,
      "outputs": []
    },
    {
      "cell_type": "code",
      "source": [
        "df_mem_links.head()"
      ],
      "metadata": {
        "colab": {
          "base_uri": "https://localhost:8080/",
          "height": 235
        },
        "id": "OVaKhXtNtcMt",
        "outputId": "68ff407c-68ee-4434-c8f9-0026f586f983"
      },
      "execution_count": null,
      "outputs": [
        {
          "output_type": "execute_result",
          "data": {
            "text/plain": [
              "  Unnamed: 0  Node0  Node1  Node2  Node3  Node4  Node5  Node6  Node7  Node8  \\\n",
              "0      Node0    0.0    0.0    1.0    0.0    0.0    0.0    0.0    0.0    0.0   \n",
              "1      Node1    0.0    0.0    0.0    0.0    1.0    1.0    0.0    0.0    0.0   \n",
              "2      Node2    1.0    0.0    0.0    0.0    0.0    1.0    0.0    1.0    0.0   \n",
              "3      Node3    0.0    0.0    0.0    0.0    0.0    0.0    1.0    0.0    0.0   \n",
              "4      Node4    0.0    1.0    0.0    0.0    0.0    1.0    0.0    0.0    0.0   \n",
              "\n",
              "   ...  Node530  Node531  Node532  Node533  Node534  Node535  Node536  \\\n",
              "0  ...      0.0      0.0      0.0      0.0      0.0      0.0      0.0   \n",
              "1  ...      0.0      1.0      1.0      0.0      0.0      0.0      0.0   \n",
              "2  ...      0.0      0.0      1.0      0.0      1.0      0.0      0.0   \n",
              "3  ...      0.0      0.0      0.0      0.0      0.0      0.0      0.0   \n",
              "4  ...      0.0      0.0      0.0      1.0      1.0      0.0      0.0   \n",
              "\n",
              "   Node537  Node538  Node539  \n",
              "0      0.0      0.0      0.0  \n",
              "1      0.0      0.0      0.0  \n",
              "2      1.0      1.0      0.0  \n",
              "3      0.0      0.0      0.0  \n",
              "4      0.0      1.0      0.0  \n",
              "\n",
              "[5 rows x 541 columns]"
            ],
            "text/html": [
              "\n",
              "  <div id=\"df-e5740e05-1b2d-404e-aeea-5a34a8c2beed\">\n",
              "    <div class=\"colab-df-container\">\n",
              "      <div>\n",
              "<style scoped>\n",
              "    .dataframe tbody tr th:only-of-type {\n",
              "        vertical-align: middle;\n",
              "    }\n",
              "\n",
              "    .dataframe tbody tr th {\n",
              "        vertical-align: top;\n",
              "    }\n",
              "\n",
              "    .dataframe thead th {\n",
              "        text-align: right;\n",
              "    }\n",
              "</style>\n",
              "<table border=\"1\" class=\"dataframe\">\n",
              "  <thead>\n",
              "    <tr style=\"text-align: right;\">\n",
              "      <th></th>\n",
              "      <th>Unnamed: 0</th>\n",
              "      <th>Node0</th>\n",
              "      <th>Node1</th>\n",
              "      <th>Node2</th>\n",
              "      <th>Node3</th>\n",
              "      <th>Node4</th>\n",
              "      <th>Node5</th>\n",
              "      <th>Node6</th>\n",
              "      <th>Node7</th>\n",
              "      <th>Node8</th>\n",
              "      <th>...</th>\n",
              "      <th>Node530</th>\n",
              "      <th>Node531</th>\n",
              "      <th>Node532</th>\n",
              "      <th>Node533</th>\n",
              "      <th>Node534</th>\n",
              "      <th>Node535</th>\n",
              "      <th>Node536</th>\n",
              "      <th>Node537</th>\n",
              "      <th>Node538</th>\n",
              "      <th>Node539</th>\n",
              "    </tr>\n",
              "  </thead>\n",
              "  <tbody>\n",
              "    <tr>\n",
              "      <th>0</th>\n",
              "      <td>Node0</td>\n",
              "      <td>0.0</td>\n",
              "      <td>0.0</td>\n",
              "      <td>1.0</td>\n",
              "      <td>0.0</td>\n",
              "      <td>0.0</td>\n",
              "      <td>0.0</td>\n",
              "      <td>0.0</td>\n",
              "      <td>0.0</td>\n",
              "      <td>0.0</td>\n",
              "      <td>...</td>\n",
              "      <td>0.0</td>\n",
              "      <td>0.0</td>\n",
              "      <td>0.0</td>\n",
              "      <td>0.0</td>\n",
              "      <td>0.0</td>\n",
              "      <td>0.0</td>\n",
              "      <td>0.0</td>\n",
              "      <td>0.0</td>\n",
              "      <td>0.0</td>\n",
              "      <td>0.0</td>\n",
              "    </tr>\n",
              "    <tr>\n",
              "      <th>1</th>\n",
              "      <td>Node1</td>\n",
              "      <td>0.0</td>\n",
              "      <td>0.0</td>\n",
              "      <td>0.0</td>\n",
              "      <td>0.0</td>\n",
              "      <td>1.0</td>\n",
              "      <td>1.0</td>\n",
              "      <td>0.0</td>\n",
              "      <td>0.0</td>\n",
              "      <td>0.0</td>\n",
              "      <td>...</td>\n",
              "      <td>0.0</td>\n",
              "      <td>1.0</td>\n",
              "      <td>1.0</td>\n",
              "      <td>0.0</td>\n",
              "      <td>0.0</td>\n",
              "      <td>0.0</td>\n",
              "      <td>0.0</td>\n",
              "      <td>0.0</td>\n",
              "      <td>0.0</td>\n",
              "      <td>0.0</td>\n",
              "    </tr>\n",
              "    <tr>\n",
              "      <th>2</th>\n",
              "      <td>Node2</td>\n",
              "      <td>1.0</td>\n",
              "      <td>0.0</td>\n",
              "      <td>0.0</td>\n",
              "      <td>0.0</td>\n",
              "      <td>0.0</td>\n",
              "      <td>1.0</td>\n",
              "      <td>0.0</td>\n",
              "      <td>1.0</td>\n",
              "      <td>0.0</td>\n",
              "      <td>...</td>\n",
              "      <td>0.0</td>\n",
              "      <td>0.0</td>\n",
              "      <td>1.0</td>\n",
              "      <td>0.0</td>\n",
              "      <td>1.0</td>\n",
              "      <td>0.0</td>\n",
              "      <td>0.0</td>\n",
              "      <td>1.0</td>\n",
              "      <td>1.0</td>\n",
              "      <td>0.0</td>\n",
              "    </tr>\n",
              "    <tr>\n",
              "      <th>3</th>\n",
              "      <td>Node3</td>\n",
              "      <td>0.0</td>\n",
              "      <td>0.0</td>\n",
              "      <td>0.0</td>\n",
              "      <td>0.0</td>\n",
              "      <td>0.0</td>\n",
              "      <td>0.0</td>\n",
              "      <td>1.0</td>\n",
              "      <td>0.0</td>\n",
              "      <td>0.0</td>\n",
              "      <td>...</td>\n",
              "      <td>0.0</td>\n",
              "      <td>0.0</td>\n",
              "      <td>0.0</td>\n",
              "      <td>0.0</td>\n",
              "      <td>0.0</td>\n",
              "      <td>0.0</td>\n",
              "      <td>0.0</td>\n",
              "      <td>0.0</td>\n",
              "      <td>0.0</td>\n",
              "      <td>0.0</td>\n",
              "    </tr>\n",
              "    <tr>\n",
              "      <th>4</th>\n",
              "      <td>Node4</td>\n",
              "      <td>0.0</td>\n",
              "      <td>1.0</td>\n",
              "      <td>0.0</td>\n",
              "      <td>0.0</td>\n",
              "      <td>0.0</td>\n",
              "      <td>1.0</td>\n",
              "      <td>0.0</td>\n",
              "      <td>0.0</td>\n",
              "      <td>0.0</td>\n",
              "      <td>...</td>\n",
              "      <td>0.0</td>\n",
              "      <td>0.0</td>\n",
              "      <td>0.0</td>\n",
              "      <td>1.0</td>\n",
              "      <td>1.0</td>\n",
              "      <td>0.0</td>\n",
              "      <td>0.0</td>\n",
              "      <td>0.0</td>\n",
              "      <td>1.0</td>\n",
              "      <td>0.0</td>\n",
              "    </tr>\n",
              "  </tbody>\n",
              "</table>\n",
              "<p>5 rows × 541 columns</p>\n",
              "</div>\n",
              "      <button class=\"colab-df-convert\" onclick=\"convertToInteractive('df-e5740e05-1b2d-404e-aeea-5a34a8c2beed')\"\n",
              "              title=\"Convert this dataframe to an interactive table.\"\n",
              "              style=\"display:none;\">\n",
              "        \n",
              "  <svg xmlns=\"http://www.w3.org/2000/svg\" height=\"24px\"viewBox=\"0 0 24 24\"\n",
              "       width=\"24px\">\n",
              "    <path d=\"M0 0h24v24H0V0z\" fill=\"none\"/>\n",
              "    <path d=\"M18.56 5.44l.94 2.06.94-2.06 2.06-.94-2.06-.94-.94-2.06-.94 2.06-2.06.94zm-11 1L8.5 8.5l.94-2.06 2.06-.94-2.06-.94L8.5 2.5l-.94 2.06-2.06.94zm10 10l.94 2.06.94-2.06 2.06-.94-2.06-.94-.94-2.06-.94 2.06-2.06.94z\"/><path d=\"M17.41 7.96l-1.37-1.37c-.4-.4-.92-.59-1.43-.59-.52 0-1.04.2-1.43.59L10.3 9.45l-7.72 7.72c-.78.78-.78 2.05 0 2.83L4 21.41c.39.39.9.59 1.41.59.51 0 1.02-.2 1.41-.59l7.78-7.78 2.81-2.81c.8-.78.8-2.07 0-2.86zM5.41 20L4 18.59l7.72-7.72 1.47 1.35L5.41 20z\"/>\n",
              "  </svg>\n",
              "      </button>\n",
              "      \n",
              "  <style>\n",
              "    .colab-df-container {\n",
              "      display:flex;\n",
              "      flex-wrap:wrap;\n",
              "      gap: 12px;\n",
              "    }\n",
              "\n",
              "    .colab-df-convert {\n",
              "      background-color: #E8F0FE;\n",
              "      border: none;\n",
              "      border-radius: 50%;\n",
              "      cursor: pointer;\n",
              "      display: none;\n",
              "      fill: #1967D2;\n",
              "      height: 32px;\n",
              "      padding: 0 0 0 0;\n",
              "      width: 32px;\n",
              "    }\n",
              "\n",
              "    .colab-df-convert:hover {\n",
              "      background-color: #E2EBFA;\n",
              "      box-shadow: 0px 1px 2px rgba(60, 64, 67, 0.3), 0px 1px 3px 1px rgba(60, 64, 67, 0.15);\n",
              "      fill: #174EA6;\n",
              "    }\n",
              "\n",
              "    [theme=dark] .colab-df-convert {\n",
              "      background-color: #3B4455;\n",
              "      fill: #D2E3FC;\n",
              "    }\n",
              "\n",
              "    [theme=dark] .colab-df-convert:hover {\n",
              "      background-color: #434B5C;\n",
              "      box-shadow: 0px 1px 3px 1px rgba(0, 0, 0, 0.15);\n",
              "      filter: drop-shadow(0px 1px 2px rgba(0, 0, 0, 0.3));\n",
              "      fill: #FFFFFF;\n",
              "    }\n",
              "  </style>\n",
              "\n",
              "      <script>\n",
              "        const buttonEl =\n",
              "          document.querySelector('#df-e5740e05-1b2d-404e-aeea-5a34a8c2beed button.colab-df-convert');\n",
              "        buttonEl.style.display =\n",
              "          google.colab.kernel.accessAllowed ? 'block' : 'none';\n",
              "\n",
              "        async function convertToInteractive(key) {\n",
              "          const element = document.querySelector('#df-e5740e05-1b2d-404e-aeea-5a34a8c2beed');\n",
              "          const dataTable =\n",
              "            await google.colab.kernel.invokeFunction('convertToInteractive',\n",
              "                                                     [key], {});\n",
              "          if (!dataTable) return;\n",
              "\n",
              "          const docLinkHtml = 'Like what you see? Visit the ' +\n",
              "            '<a target=\"_blank\" href=https://colab.research.google.com/notebooks/data_table.ipynb>data table notebook</a>'\n",
              "            + ' to learn more about interactive tables.';\n",
              "          element.innerHTML = '';\n",
              "          dataTable['output_type'] = 'display_data';\n",
              "          await google.colab.output.renderOutput(dataTable, element);\n",
              "          const docLink = document.createElement('div');\n",
              "          docLink.innerHTML = docLinkHtml;\n",
              "          element.appendChild(docLink);\n",
              "        }\n",
              "      </script>\n",
              "    </div>\n",
              "  </div>\n",
              "  "
            ]
          },
          "metadata": {},
          "execution_count": 4
        }
      ]
    },
    {
      "cell_type": "code",
      "source": [
        "df_mem_info.head()"
      ],
      "metadata": {
        "colab": {
          "base_uri": "https://localhost:8080/",
          "height": 235
        },
        "id": "zkY3pd-QtY65",
        "outputId": "8fae09b3-1644-4c76-82ee-12cca23e8a22"
      },
      "execution_count": null,
      "outputs": [
        {
          "output_type": "execute_result",
          "data": {
            "text/plain": [
              "  Unnamed: 0    0    1    2    3    4    5    6    7    8  ...   14   15   16  \\\n",
              "0      Node0  1.0  1.0  1.0  1.0  1.0  1.0  1.0  0.0  0.0  ...  1.0  1.0  1.0   \n",
              "1      Node1  0.0  0.0  0.0  0.0  0.0  1.0  1.0  1.0  1.0  ...  1.0  1.0  1.0   \n",
              "2      Node2  0.0  0.0  0.0  0.0  0.0  0.0  1.0  1.0  1.0  ...  1.0  1.0  1.0   \n",
              "3      Node3  0.0  0.0  0.0  0.0  0.0  1.0  1.0  1.0  1.0  ...  1.0  1.0  1.0   \n",
              "4      Node4  0.0  0.0  0.0  0.0  0.0  0.0  1.0  1.0  1.0  ...  1.0  1.0  1.0   \n",
              "\n",
              "    17   18   19   20   21   22   23  \n",
              "0  1.0  1.0  1.0  1.0  0.0  0.0  0.0  \n",
              "1  1.0  1.0  1.0  1.0  1.0  1.0  1.0  \n",
              "2  1.0  0.0  1.0  1.0  1.0  1.0  1.0  \n",
              "3  1.0  1.0  0.0  1.0  1.0  1.0  0.0  \n",
              "4  1.0  1.0  1.0  1.0  1.0  1.0  1.0  \n",
              "\n",
              "[5 rows x 25 columns]"
            ],
            "text/html": [
              "\n",
              "  <div id=\"df-1d1d773d-fedb-470b-aa24-ac78a87a4c52\">\n",
              "    <div class=\"colab-df-container\">\n",
              "      <div>\n",
              "<style scoped>\n",
              "    .dataframe tbody tr th:only-of-type {\n",
              "        vertical-align: middle;\n",
              "    }\n",
              "\n",
              "    .dataframe tbody tr th {\n",
              "        vertical-align: top;\n",
              "    }\n",
              "\n",
              "    .dataframe thead th {\n",
              "        text-align: right;\n",
              "    }\n",
              "</style>\n",
              "<table border=\"1\" class=\"dataframe\">\n",
              "  <thead>\n",
              "    <tr style=\"text-align: right;\">\n",
              "      <th></th>\n",
              "      <th>Unnamed: 0</th>\n",
              "      <th>0</th>\n",
              "      <th>1</th>\n",
              "      <th>2</th>\n",
              "      <th>3</th>\n",
              "      <th>4</th>\n",
              "      <th>5</th>\n",
              "      <th>6</th>\n",
              "      <th>7</th>\n",
              "      <th>8</th>\n",
              "      <th>...</th>\n",
              "      <th>14</th>\n",
              "      <th>15</th>\n",
              "      <th>16</th>\n",
              "      <th>17</th>\n",
              "      <th>18</th>\n",
              "      <th>19</th>\n",
              "      <th>20</th>\n",
              "      <th>21</th>\n",
              "      <th>22</th>\n",
              "      <th>23</th>\n",
              "    </tr>\n",
              "  </thead>\n",
              "  <tbody>\n",
              "    <tr>\n",
              "      <th>0</th>\n",
              "      <td>Node0</td>\n",
              "      <td>1.0</td>\n",
              "      <td>1.0</td>\n",
              "      <td>1.0</td>\n",
              "      <td>1.0</td>\n",
              "      <td>1.0</td>\n",
              "      <td>1.0</td>\n",
              "      <td>1.0</td>\n",
              "      <td>0.0</td>\n",
              "      <td>0.0</td>\n",
              "      <td>...</td>\n",
              "      <td>1.0</td>\n",
              "      <td>1.0</td>\n",
              "      <td>1.0</td>\n",
              "      <td>1.0</td>\n",
              "      <td>1.0</td>\n",
              "      <td>1.0</td>\n",
              "      <td>1.0</td>\n",
              "      <td>0.0</td>\n",
              "      <td>0.0</td>\n",
              "      <td>0.0</td>\n",
              "    </tr>\n",
              "    <tr>\n",
              "      <th>1</th>\n",
              "      <td>Node1</td>\n",
              "      <td>0.0</td>\n",
              "      <td>0.0</td>\n",
              "      <td>0.0</td>\n",
              "      <td>0.0</td>\n",
              "      <td>0.0</td>\n",
              "      <td>1.0</td>\n",
              "      <td>1.0</td>\n",
              "      <td>1.0</td>\n",
              "      <td>1.0</td>\n",
              "      <td>...</td>\n",
              "      <td>1.0</td>\n",
              "      <td>1.0</td>\n",
              "      <td>1.0</td>\n",
              "      <td>1.0</td>\n",
              "      <td>1.0</td>\n",
              "      <td>1.0</td>\n",
              "      <td>1.0</td>\n",
              "      <td>1.0</td>\n",
              "      <td>1.0</td>\n",
              "      <td>1.0</td>\n",
              "    </tr>\n",
              "    <tr>\n",
              "      <th>2</th>\n",
              "      <td>Node2</td>\n",
              "      <td>0.0</td>\n",
              "      <td>0.0</td>\n",
              "      <td>0.0</td>\n",
              "      <td>0.0</td>\n",
              "      <td>0.0</td>\n",
              "      <td>0.0</td>\n",
              "      <td>1.0</td>\n",
              "      <td>1.0</td>\n",
              "      <td>1.0</td>\n",
              "      <td>...</td>\n",
              "      <td>1.0</td>\n",
              "      <td>1.0</td>\n",
              "      <td>1.0</td>\n",
              "      <td>1.0</td>\n",
              "      <td>0.0</td>\n",
              "      <td>1.0</td>\n",
              "      <td>1.0</td>\n",
              "      <td>1.0</td>\n",
              "      <td>1.0</td>\n",
              "      <td>1.0</td>\n",
              "    </tr>\n",
              "    <tr>\n",
              "      <th>3</th>\n",
              "      <td>Node3</td>\n",
              "      <td>0.0</td>\n",
              "      <td>0.0</td>\n",
              "      <td>0.0</td>\n",
              "      <td>0.0</td>\n",
              "      <td>0.0</td>\n",
              "      <td>1.0</td>\n",
              "      <td>1.0</td>\n",
              "      <td>1.0</td>\n",
              "      <td>1.0</td>\n",
              "      <td>...</td>\n",
              "      <td>1.0</td>\n",
              "      <td>1.0</td>\n",
              "      <td>1.0</td>\n",
              "      <td>1.0</td>\n",
              "      <td>1.0</td>\n",
              "      <td>0.0</td>\n",
              "      <td>1.0</td>\n",
              "      <td>1.0</td>\n",
              "      <td>1.0</td>\n",
              "      <td>0.0</td>\n",
              "    </tr>\n",
              "    <tr>\n",
              "      <th>4</th>\n",
              "      <td>Node4</td>\n",
              "      <td>0.0</td>\n",
              "      <td>0.0</td>\n",
              "      <td>0.0</td>\n",
              "      <td>0.0</td>\n",
              "      <td>0.0</td>\n",
              "      <td>0.0</td>\n",
              "      <td>1.0</td>\n",
              "      <td>1.0</td>\n",
              "      <td>1.0</td>\n",
              "      <td>...</td>\n",
              "      <td>1.0</td>\n",
              "      <td>1.0</td>\n",
              "      <td>1.0</td>\n",
              "      <td>1.0</td>\n",
              "      <td>1.0</td>\n",
              "      <td>1.0</td>\n",
              "      <td>1.0</td>\n",
              "      <td>1.0</td>\n",
              "      <td>1.0</td>\n",
              "      <td>1.0</td>\n",
              "    </tr>\n",
              "  </tbody>\n",
              "</table>\n",
              "<p>5 rows × 25 columns</p>\n",
              "</div>\n",
              "      <button class=\"colab-df-convert\" onclick=\"convertToInteractive('df-1d1d773d-fedb-470b-aa24-ac78a87a4c52')\"\n",
              "              title=\"Convert this dataframe to an interactive table.\"\n",
              "              style=\"display:none;\">\n",
              "        \n",
              "  <svg xmlns=\"http://www.w3.org/2000/svg\" height=\"24px\"viewBox=\"0 0 24 24\"\n",
              "       width=\"24px\">\n",
              "    <path d=\"M0 0h24v24H0V0z\" fill=\"none\"/>\n",
              "    <path d=\"M18.56 5.44l.94 2.06.94-2.06 2.06-.94-2.06-.94-.94-2.06-.94 2.06-2.06.94zm-11 1L8.5 8.5l.94-2.06 2.06-.94-2.06-.94L8.5 2.5l-.94 2.06-2.06.94zm10 10l.94 2.06.94-2.06 2.06-.94-2.06-.94-.94-2.06-.94 2.06-2.06.94z\"/><path d=\"M17.41 7.96l-1.37-1.37c-.4-.4-.92-.59-1.43-.59-.52 0-1.04.2-1.43.59L10.3 9.45l-7.72 7.72c-.78.78-.78 2.05 0 2.83L4 21.41c.39.39.9.59 1.41.59.51 0 1.02-.2 1.41-.59l7.78-7.78 2.81-2.81c.8-.78.8-2.07 0-2.86zM5.41 20L4 18.59l7.72-7.72 1.47 1.35L5.41 20z\"/>\n",
              "  </svg>\n",
              "      </button>\n",
              "      \n",
              "  <style>\n",
              "    .colab-df-container {\n",
              "      display:flex;\n",
              "      flex-wrap:wrap;\n",
              "      gap: 12px;\n",
              "    }\n",
              "\n",
              "    .colab-df-convert {\n",
              "      background-color: #E8F0FE;\n",
              "      border: none;\n",
              "      border-radius: 50%;\n",
              "      cursor: pointer;\n",
              "      display: none;\n",
              "      fill: #1967D2;\n",
              "      height: 32px;\n",
              "      padding: 0 0 0 0;\n",
              "      width: 32px;\n",
              "    }\n",
              "\n",
              "    .colab-df-convert:hover {\n",
              "      background-color: #E2EBFA;\n",
              "      box-shadow: 0px 1px 2px rgba(60, 64, 67, 0.3), 0px 1px 3px 1px rgba(60, 64, 67, 0.15);\n",
              "      fill: #174EA6;\n",
              "    }\n",
              "\n",
              "    [theme=dark] .colab-df-convert {\n",
              "      background-color: #3B4455;\n",
              "      fill: #D2E3FC;\n",
              "    }\n",
              "\n",
              "    [theme=dark] .colab-df-convert:hover {\n",
              "      background-color: #434B5C;\n",
              "      box-shadow: 0px 1px 3px 1px rgba(0, 0, 0, 0.15);\n",
              "      filter: drop-shadow(0px 1px 2px rgba(0, 0, 0, 0.3));\n",
              "      fill: #FFFFFF;\n",
              "    }\n",
              "  </style>\n",
              "\n",
              "      <script>\n",
              "        const buttonEl =\n",
              "          document.querySelector('#df-1d1d773d-fedb-470b-aa24-ac78a87a4c52 button.colab-df-convert');\n",
              "        buttonEl.style.display =\n",
              "          google.colab.kernel.accessAllowed ? 'block' : 'none';\n",
              "\n",
              "        async function convertToInteractive(key) {\n",
              "          const element = document.querySelector('#df-1d1d773d-fedb-470b-aa24-ac78a87a4c52');\n",
              "          const dataTable =\n",
              "            await google.colab.kernel.invokeFunction('convertToInteractive',\n",
              "                                                     [key], {});\n",
              "          if (!dataTable) return;\n",
              "\n",
              "          const docLinkHtml = 'Like what you see? Visit the ' +\n",
              "            '<a target=\"_blank\" href=https://colab.research.google.com/notebooks/data_table.ipynb>data table notebook</a>'\n",
              "            + ' to learn more about interactive tables.';\n",
              "          element.innerHTML = '';\n",
              "          dataTable['output_type'] = 'display_data';\n",
              "          await google.colab.output.renderOutput(dataTable, element);\n",
              "          const docLink = document.createElement('div');\n",
              "          docLink.innerHTML = docLinkHtml;\n",
              "          element.appendChild(docLink);\n",
              "        }\n",
              "      </script>\n",
              "    </div>\n",
              "  </div>\n",
              "  "
            ]
          },
          "metadata": {},
          "execution_count": 3
        }
      ]
    },
    {
      "cell_type": "markdown",
      "source": [
        "##077. 링크 수의 분포 가시화"
      ],
      "metadata": {
        "id": "zUwwUYyLyhZG"
      }
    },
    {
      "cell_type": "code",
      "source": [
        "NUM = len(df_mem_links.index)\n",
        "array_linkNum = np.zeros(NUM)\n",
        "for i in range(NUM):\n",
        "  array_linkNum[i] = sum(df_mem_links[\"Node\" + str(i)])\n",
        "\n",
        "plt.hist(array_linkNum, bins = 10, range = (0, 250))\n",
        "plt.show()\n",
        "\n",
        "# 이 분포는 거의 모든 노드가 어느정도의 링크 수를 가지고 있기 때문에\n",
        "# 입소문이 급격히 퍼지지는 않지만 허브(연결을 많이 가지는 소수의 사람)에 의존하지 않고 입소문이 퍼지기 쉬움"
      ],
      "metadata": {
        "colab": {
          "base_uri": "https://localhost:8080/",
          "height": 265
        },
        "id": "l_iNa2tDxYjj",
        "outputId": "0e9de273-d213-4157-dd90-4af7aa26f438"
      },
      "execution_count": null,
      "outputs": [
        {
          "output_type": "display_data",
          "data": {
            "text/plain": [
              "<Figure size 432x288 with 1 Axes>"
            ],
            "image/png": "[encoded data removed]"
          },
          "metadata": {
            "needs_background": "light"
          }
        }
      ]
    },
    {
      "cell_type": "markdown",
      "source": [
        "##078. 시뮬레이션을 위해 실제 데이터로 파라미터 추정"
      ],
      "metadata": {
        "id": "OJSK_SBWzwCL"
      }
    },
    {
      "cell_type": "code",
      "source": [
        "NUM = len(df_mem_info.index)\n",
        "T_NUM = len(df_mem_info.columns)-1\n",
        "# 소멸 확률 추정 \n",
        "count_active = 0\n",
        "count_active_to_inactive = 0\n",
        "for t in range(1,T_NUM):    #df_mem_info의 column 순서대로, 즉 시계열순으로 확인\n",
        "    for i in range(NUM):\n",
        "        if (df_mem_info.iloc[i][t]==1):       # 어떤 고객 i가 t번째 월에 이용을 했다면\n",
        "            count_active_to_inactive += 1     \n",
        "            if (df_mem_info.iloc[i][t+1]==0): # 어떤 고객 i가 t+1번째 월에는 이용을 안 했다면\n",
        "                count_active += 1\n",
        "estimated_percent_disapparence = count_active/count_active_to_inactive  # 소멸 확률 = t번째 월 이용 후 t+1번째 월 이용 안함 / t번째 월 이용함\n",
        "                                                                        # 즉 활성(1) -> 비활성(0) 비율"
      ],
      "metadata": {
        "id": "KdSCGduWz0PF"
      },
      "execution_count": null,
      "outputs": []
    },
    {
      "cell_type": "code",
      "source": [
        "# 확산 확률 추정\n",
        "count_link = 0\n",
        "count_link_to_active = 0\n",
        "count_link_temp = 0\n",
        "for t in range(T_NUM-1):\n",
        "    df_link_t = df_mem_info[df_mem_info[str(t)]==1]   # t번째 달에 이용한 모든 고객 데이터 추출\n",
        "    temp_flag_count = np.zeros(NUM)                 # 고객 수 만큼 영배열 생성\n",
        "\n",
        "    for i in range(len(df_link_t.index)):\n",
        "        df_link_temp = df_mem_links[df_mem_links[\"Node\"+str(df_link_t.index[i])]==1]  # t번째 달 이용한 i번째 고객(Node i)의 다른 Node와의 연결 여부 열 추출\n",
        "        for j in range(len(df_link_temp.index)):\n",
        "            if (df_mem_info.iloc[df_link_temp.index[j]][t]==0):         # Node i의 Node j와의 연결 여부 0 or 1 -> df_mem_info.iloc[0 or 1][t] == 0\n",
        "                if (temp_flag_count[df_link_temp.index[j]]==0):         # Node i의 Node j와의 연결 여부 0 or 1 -> temp_flag_count[0 or 1] == 0\n",
        "                    count_link += 1\n",
        "                if (df_mem_info.iloc[df_link_temp.index[j]][t+1]==1):   # Node i의 Node j와의 연결 여부 0 or 1 -> df_mem_info.iloc[0 or 1][t] == 1\n",
        "                    if (temp_flag_count[df_link_temp.index[j]]==0):     # Node i의 Node j와의 연결 여부 0 or 1 -> temp_flag_count[0 or 1] == 0\n",
        "                        temp_flag_count[df_link_temp.index[j]] = 1      #                                      -> temp_flag_count[0 or 1] = 1로 바꿔 줌\n",
        "                        count_link_to_active += 1\n",
        "estimated_percent_percolation = count_link_to_active/count_link\n",
        "\n",
        "# 비활성(0) -> 활성(1)\n",
        "# 링크 개수와 관계없이 변화가 발생하므로 중복 없이 세야함"
      ],
      "metadata": {
        "id": "j94mPFP76mVg"
      },
      "execution_count": null,
      "outputs": []
    },
    {
      "cell_type": "code",
      "source": [
        "print(estimated_percent_disapparence)\n",
        "print(estimated_percent_percolation)"
      ],
      "metadata": {
        "colab": {
          "base_uri": "https://localhost:8080/"
        },
        "id": "sDr_JVyg4dSJ",
        "outputId": "1e7bfe83-4e7c-49ab-f6af-300c4a01fbc5"
      },
      "execution_count": null,
      "outputs": [
        {
          "output_type": "stream",
          "name": "stdout",
          "text": [
            "0.10147163541419416\n",
            "0.025184661323275185\n"
          ]
        }
      ]
    },
    {
      "cell_type": "markdown",
      "source": [
        "##079. 실제 데이터와 시뮬레이션 비교"
      ],
      "metadata": {
        "id": "REhYyvob3f43"
      }
    },
    {
      "cell_type": "code",
      "source": [
        "percent_disapparence = estimated_percent_disapparence\n",
        "percent_percolation = estimated_percent_percolation\n",
        "T_NUM = 24\n",
        "NUM = len(df_mem_links.index)\n",
        "list_active = np.zeros(NUM)\n",
        "list_active[0] = 1\n",
        "list_timeSeries = []\n",
        "\n",
        "for t in range(T_NUM):\n",
        "  list_active = simulate_population(NUM, list_active, percent_percolation, percent_disapparance, df_mem_links)\n",
        "  list_timeSeries.append(list_active.copy())"
      ],
      "metadata": {
        "id": "AO8sPmVH2-yB"
      },
      "execution_count": null,
      "outputs": []
    },
    {
      "cell_type": "code",
      "source": [
        "list_timeSeries_num = []\n",
        "for i in range(len(list_timeSeries)):\n",
        "  list_timeSeries_num.append(sum(list_timeSeries[i]))"
      ],
      "metadata": {
        "id": "mq_Z4two53ru"
      },
      "execution_count": null,
      "outputs": []
    },
    {
      "cell_type": "code",
      "source": [
        "T_NUM = len(df_mem_info.columns) - 1\n",
        "list_timeSeries_num_real = []\n",
        "for i in range(0, T_NUM):\n",
        "  list_timeSeries_num_real.append(len(df_mem_info[df_mem_info[str(t)] == 1].index))"
      ],
      "metadata": {
        "id": "rat-5NNb55W0"
      },
      "execution_count": null,
      "outputs": []
    },
    {
      "cell_type": "code",
      "source": [
        "plt.plot(list_timeSeries_num, label = 'simulated')\n",
        "plt.plot(list_timeSeries_num_real, label = 'real')\n",
        "plt.xlabel('month')\n",
        "plt.ylabel('population')\n",
        "plt.legend(loc = 'lower right')\n",
        "plt.show()"
      ],
      "metadata": {
        "colab": {
          "base_uri": "https://localhost:8080/",
          "height": 281
        },
        "id": "kDnNQOw05aLD",
        "outputId": "d57ea579-c594-46b7-818a-ae0615b332c0"
      },
      "execution_count": null,
      "outputs": [
        {
          "output_type": "display_data",
          "data": {
            "text/plain": [
              "<Figure size 432x288 with 1 Axes>"
            ],
            "image/png": "[encoded data removed]"
          },
          "metadata": {
            "needs_background": "light"
          }
        }
      ]
    },
    {
      "cell_type": "markdown",
      "source": [
        "##080. 시뮬레이션으로 미래 예측"
      ],
      "metadata": {
        "id": "GDeytEEh6-yi"
      }
    },
    {
      "cell_type": "code",
      "source": [
        "percent_disapparence = estimated_percent_disapparence\n",
        "percent_percolation = estimated_percent_percolation\n",
        "T_NUM = 36\n",
        "NUM = len(df_mem_links.index)\n",
        "list_active = np.zeros(NUM)\n",
        "list_active[0] = 1\n",
        "list_timeSeries = []\n",
        "\n",
        "for t in range(T_NUM):\n",
        "  list_active = simulate_population(NUM, list_active, percent_percolation, percent_disapparance, df_mem_links)\n",
        "  list_timeSeries.append(list_active.copy())"
      ],
      "metadata": {
        "id": "LLYeLxxF57EC"
      },
      "execution_count": null,
      "outputs": []
    },
    {
      "cell_type": "code",
      "source": [
        "list_timeSeries_num = []\n",
        "for i in range(len(list_timeSeries)):\n",
        "  list_timeSeries_num.append(sum(list_timeSeries[i]))"
      ],
      "metadata": {
        "id": "gnPGM44m7R6a"
      },
      "execution_count": null,
      "outputs": []
    },
    {
      "cell_type": "code",
      "source": [
        "plt.plot(list_timeSeries_num, label = 'simulated')\n",
        "plt.plot(list_timeSeries_num_real, label = 'real')\n",
        "plt.xlabel('month')\n",
        "plt.ylabel('population')\n",
        "plt.legend(loc = 'lower right')\n",
        "plt.show()"
      ],
      "metadata": {
        "id": "OsQVTNj17aaJ",
        "outputId": "c1b65660-31f1-4a3a-8556-2f5109d8b8d3",
        "colab": {
          "base_uri": "https://localhost:8080/",
          "height": 281
        }
      },
      "execution_count": null,
      "outputs": [
        {
          "output_type": "display_data",
          "data": {
            "text/plain": [
              "<Figure size 432x288 with 1 Axes>"
            ],
            "image/png": "[encoded data removed]"
          },
          "metadata": {
            "needs_background": "light"
          }
        }
      ]
    },
    {
      "cell_type": "code",
      "source": [
        "#????"
      ],
      "metadata": {
        "id": "OWozXw3V7c1k"
      },
      "execution_count": null,
      "outputs": []
    }
  ]
}